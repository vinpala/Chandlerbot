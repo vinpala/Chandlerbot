{
 "cells": [
  {
   "cell_type": "markdown",
   "metadata": {},
   "source": [
    "# Acknowledgements\n",
    "\n",
    "This project borrows code from the following sources:\n",
    "\n",
    "    https://pytorch.org/tutorials/beginner/chatbot_tutorial.html\n",
    "\n",
    "    Yuan-Kuei Wu’s pytorch-chatbot implementation: https://github.com/ywk991112/pytorch-chatbot\n",
    "            \n",
    "    Sean Robertson’s practical-pytorch seq2seq-translation example: https://github.com/spro/practical-pytorch/tree/master/seq2seq-translation\n",
    "            \n",
    "    FloydHub’s Cornell Movie Corpus preprocessing code: https://github.com/floydhub/textutil-preprocess-cornell-movie-corpus"
   ]
  },
  {
   "cell_type": "code",
   "execution_count": 1,
   "metadata": {},
   "outputs": [],
   "source": [
    "from __future__ import absolute_import\n",
    "from __future__ import division\n",
    "from __future__ import print_function\n",
    "from __future__ import unicode_literals\n",
    "\n",
    "import torch\n",
    "from torch.jit import script, trace\n",
    "import torch.nn as nn\n",
    "from torch import optim\n",
    "import torch.nn.functional as F\n",
    "import csv\n",
    "import random\n",
    "import re\n",
    "import os\n",
    "import unicodedata\n",
    "import codecs\n",
    "from io import open\n",
    "import itertools\n",
    "import math\n",
    "from preprocessing import *\n",
    "import pandas as pd\n",
    "USE_CUDA = torch.cuda.is_available()\n",
    "device = torch.device(\"cuda\" if USE_CUDA else \"cpu\")"
   ]
  },
  {
   "cell_type": "code",
   "execution_count": 21,
   "metadata": {},
   "outputs": [
    {
     "name": "stdout",
     "output_type": "stream",
     "text": [
      "Collecting tqdm\n",
      "  Downloading https://files.pythonhosted.org/packages/6c/4b/c38b5144cf167c4f52288517436ccafefe9dc01b8d1c190e18a6b154cd4a/tqdm-4.31.1-py2.py3-none-any.whl (48kB)\n",
      "Installing collected packages: tqdm\n",
      "Successfully installed tqdm-4.31.1\n"
     ]
    },
    {
     "name": "stderr",
     "output_type": "stream",
     "text": [
      "You are using pip version 9.0.1, however version 19.0.2 is available.\n",
      "You should consider upgrading via the 'python -m pip install --upgrade pip' command.\n"
     ]
    }
   ],
   "source": [
    "!pip install tqdm"
   ]
  },
  {
   "cell_type": "code",
   "execution_count": 2,
   "metadata": {},
   "outputs": [],
   "source": [
    "%reload_ext autoreload\n",
    "%autoreload 2\n",
    "%matplotlib inline"
   ]
  },
  {
   "cell_type": "code",
   "execution_count": 3,
   "metadata": {},
   "outputs": [
    {
     "data": {
      "text/plain": [
       "'0.4.1'"
      ]
     },
     "execution_count": 3,
     "metadata": {},
     "output_type": "execute_result"
    }
   ],
   "source": [
    "torch.__version__"
   ]
  },
  {
   "cell_type": "code",
   "execution_count": 4,
   "metadata": {},
   "outputs": [],
   "source": [
    "CORNELL_PATH = \"data/cornell\"\n",
    "SITCOM_PATH = \"data/sitcom\"\n",
    "CHANDLER_PATH = \"data/chandler\""
   ]
  },
  {
   "cell_type": "markdown",
   "metadata": {},
   "source": [
    "# Load and Preprocess data"
   ]
  },
  {
   "cell_type": "code",
   "execution_count": 5,
   "metadata": {},
   "outputs": [
    {
     "name": "stdout",
     "output_type": "stream",
     "text": [
      "\n",
      "Processing corpus...\n"
     ]
    }
   ],
   "source": [
    "lines = {}\n",
    "conversations = []\n",
    "MOVIE_LINES_FIELDS = [\"lineID\", \"characterID\", \"movieID\", \"character\", \"text\"]\n",
    "MOVIE_CONVERSATIONS_FIELDS = [\"character1ID\", \"character2ID\", \"movieID\", \"utteranceIDs\"]\n",
    "# Load lines and process conversations\n",
    "print(\"\\nProcessing corpus...\")\n",
    "lines = loadLines(os.path.join(CORNELL_PATH, \"movie_lines.txt\"), MOVIE_LINES_FIELDS)\n",
    "movie_conversations = loadMovieConversations(os.path.join(CORNELL_PATH, \"movie_conversations.txt\"),lines, MOVIE_CONVERSATIONS_FIELDS)"
   ]
  },
  {
   "cell_type": "code",
   "execution_count": 6,
   "metadata": {},
   "outputs": [
    {
     "data": {
      "text/plain": [
       "{'character1ID': 'u0',\n",
       " 'character2ID': 'u2',\n",
       " 'lines': [{'character': 'BIANCA',\n",
       "   'characterID': 'u0',\n",
       "   'lineID': 'L194',\n",
       "   'movieID': 'm0',\n",
       "   'text': 'Can we make this quick?  Roxanne Korrine and Andrew Barrett are having an incredibly horrendous public break- up on the quad.  Again.\\n'},\n",
       "  {'character': 'CAMERON',\n",
       "   'characterID': 'u2',\n",
       "   'lineID': 'L195',\n",
       "   'movieID': 'm0',\n",
       "   'text': \"Well, I thought we'd start with pronunciation, if that's okay with you.\\n\"},\n",
       "  {'character': 'BIANCA',\n",
       "   'characterID': 'u0',\n",
       "   'lineID': 'L196',\n",
       "   'movieID': 'm0',\n",
       "   'text': 'Not the hacking and gagging and spitting part.  Please.\\n'},\n",
       "  {'character': 'CAMERON',\n",
       "   'characterID': 'u2',\n",
       "   'lineID': 'L197',\n",
       "   'movieID': 'm0',\n",
       "   'text': \"Okay... then how 'bout we try out some French cuisine.  Saturday?  Night?\\n\"}],\n",
       " 'movieID': 'm0',\n",
       " 'utteranceIDs': \"['L194', 'L195', 'L196', 'L197']\\n\"}"
      ]
     },
     "execution_count": 6,
     "metadata": {},
     "output_type": "execute_result"
    }
   ],
   "source": [
    "movie_conversations[0]"
   ]
  },
  {
   "cell_type": "code",
   "execution_count": 10,
   "metadata": {},
   "outputs": [
    {
     "name": "stdout",
     "output_type": "stream",
     "text": [
      "Fraiser.txt\n",
      " No. of lines in Fraiser.txt => 65853\n",
      " No. of scenes written from  Fraiser.txt => 1666\n",
      "Friends.txt\n",
      " No. of lines in Friends.txt => 56482\n",
      " No. of scenes written from  Friends.txt => 3707\n",
      "HIMYM1.txt\n",
      " No. of lines in HIMYM1.txt => 31896\n",
      " No. of scenes written from  HIMYM1.txt => 205\n",
      "Seinfield.txt\n",
      " No. of lines in Seinfield.txt => 51254\n",
      " No. of scenes written from  Seinfield.txt => 136\n"
     ]
    }
   ],
   "source": [
    "sitcom_conversations = loadSitcomConversations(SITCOM_PATH)"
   ]
  },
  {
   "cell_type": "code",
   "execution_count": 16,
   "metadata": {},
   "outputs": [
    {
     "data": {
      "text/plain": [
       "[\" There's nothing to tell! He's just some guy I work with!\",\n",
       " \" C'mon, you're going out with the guy! There's gotta be something wrong with him!\",\n",
       " ' All right Joey, be nice. So does he have a hump? A hump and a hairpiece?',\n",
       " ' Wait, does he eat chalk?',\n",
       " \" Just, 'cause, I don't want her to go through what I went through with Carl- oh!\",\n",
       " \" Okay, everybody relax. This is not even a date. It's just two people going out to dinner and- not having sex.\",\n",
       " ' Sounds like a date to me.']"
      ]
     },
     "execution_count": 16,
     "metadata": {},
     "output_type": "execute_result"
    }
   ],
   "source": [
    "sitcom_conversations[1666]"
   ]
  },
  {
   "cell_type": "code",
   "execution_count": 17,
   "metadata": {},
   "outputs": [],
   "source": [
    "delimiter = '\\t'\n",
    "# Unescape the delimiter\n",
    "delimiter = str(codecs.decode(delimiter, \"unicode_escape\"))\n",
    "\n",
    "with open(\"data/formatted_lines_all.txt\", 'w', encoding='utf-8') as outputfile:\n",
    "    writer = csv.writer(outputfile, delimiter=delimiter, lineterminator='\\n')\n",
    "    for pair in extractSentencePairs(movie_conversations):\n",
    "        writer.writerow(pair)\n",
    "    for pair in extractSentencePairs1(sitcom_conversations):\n",
    "        writer.writerow(pair)\n",
    "with open(\"data/formatted_lines_sitcom.txt\", 'w', encoding='utf-8') as outputfile:\n",
    "    writer = csv.writer(outputfile, delimiter=delimiter, lineterminator='\\n')\n",
    "    for pair in extractSentencePairs1(sitcom_conversations):\n",
    "        writer.writerow(pair)"
   ]
  },
  {
   "cell_type": "code",
   "execution_count": 18,
   "metadata": {},
   "outputs": [
    {
     "name": "stdout",
     "output_type": "stream",
     "text": [
      "\n",
      "Sample lines from file:\n",
      "b\"Can we make this quick?  Roxanne Korrine and Andrew Barrett are having an incredibly horrendous public break- up on the quad.  Again.\\tWell, I thought we'd start with pronunciation, if that's okay with you.\\r\\n\"\n",
      "b\"Well, I thought we'd start with pronunciation, if that's okay with you.\\tNot the hacking and gagging and spitting part.  Please.\\r\\n\"\n",
      "b\"Not the hacking and gagging and spitting part.  Please.\\tOkay... then how 'bout we try out some French cuisine.  Saturday?  Night?\\r\\n\"\n",
      "b\"You're asking me out.  That's so cute. What's your name again?\\tForget it.\\r\\n\"\n",
      "b\"No, no, it's my fault -- we didn't have a proper introduction ---\\tCameron.\\r\\n\"\n",
      "b\"Cameron.\\tThe thing is, Cameron -- I'm at the mercy of a particularly hideous breed of loser.  My sister.  I can't date until she does.\\r\\n\"\n",
      "b\"The thing is, Cameron -- I'm at the mercy of a particularly hideous breed of loser.  My sister.  I can't date until she does.\\tSeems like she could get a date easy enough...\\r\\n\"\n",
      "b'Why?\\tUnsolved mystery.  She used to be really popular when she started high school, then it was just like she got sick of it or something.\\r\\n'\n",
      "b\"Unsolved mystery.  She used to be really popular when she started high school, then it was just like she got sick of it or something.\\tThat's a shame.\\r\\n\"\n",
      "b'Gosh, if only we could find Kat a boyfriend...\\tLet me see what I can do.\\r\\n'\n"
     ]
    }
   ],
   "source": [
    "# Print a sample of lines\n",
    "print(\"\\nSample lines from file:\")\n",
    "printLines(\"data/formatted_lines_all.txt\")"
   ]
  },
  {
   "cell_type": "code",
   "execution_count": 19,
   "metadata": {},
   "outputs": [
    {
     "name": "stdout",
     "output_type": "stream",
     "text": [
      "b' Listen to yourself, Bob! You follow her to work, you eavesdrop on her calls, you open her mail. The minute you started doing these things, the relationship was over! Thank you for your call. Roz, I think we have time for one more?\\t Yes, Dr Crane. On line four, we have Russell from Kirkland.\\r\\n'\n",
      "b\" Yes, Dr Crane. On line four, we have Russell from Kirkland.\\t Hello, Russell. This is Dr Frasier Crane; I'm listening.\\r\\n\"\n",
      "b\" Hello, Russell. This is Dr Frasier Crane; I'm listening.\\t Well, I've been feeling sort of, uh, you know, depressed lately. My life's not going anywhere and-and, er, it's not that bad. It's just the same old apartment, same old job...\\r\\n\"\n",
      "b\" Well, I've been feeling sort of, uh, you know, depressed lately. My life's not going anywhere and-and, er, it's not that bad. It's just the same old apartment, same old job...\\t Er, Russell, we're just about at the end of our hour. Let me see if I can cut to the chase by using myself as an example. Six months ago, I was living in Boston. My wife had left me, which was very painful. Then she came back to me, which was excruciating. On top of that, my practice had grown stagnant, and my social life consisted of... hanging around a bar night after night. You see, I was clinging to a life that wasn't working anymore, and I knew I had to do something, anything. So, I ended the marriage once and for all, packed up my things, and moved back here to my hometown of Seattle. Go Seahawks! I took action, Russell. And you can, too. Move, change, do something; if it's a mistake, do something else. Will you do that, Russell? Will you? Russell...? I think we lost him.\\r\\n\"\n",
      "b\" Er, Russell, we're just about at the end of our hour. Let me see if I can cut to the chase by using myself as an example. Six months ago, I was living in Boston. My wife had left me, which was very painful. Then she came back to me, which was excruciating. On top of that, my practice had grown stagnant, and my social life consisted of... hanging around a bar night after night. You see, I was clinging to a life that wasn't working anymore, and I knew I had to do something, anything. So, I ended the marriage once and for all, packed up my things, and moved back here to my hometown of Seattle. Go Seahawks! I took action, Russell. And you can, too. Move, change, do something; if it's a mistake, do something else. Will you do that, Russell? Will you? Russell...? I think we lost him.\\t No, we cut to the news thirty seconds ago.\\r\\n\"\n",
      "b' No, we cut to the news thirty seconds ago.\\t\" Oh, for crying out loud! I finally bare my soul to all of Seattle, and they\\'re listening to Chopper Dave\\'s \"\"Rush-Hour Round-Up!\"\"\"\\r\\n'\n",
      "b'\" Oh, for crying out loud! I finally bare my soul to all of Seattle, and they\\'re listening to Chopper Dave\\'s \"\"Rush-Hour Round-Up!\"\"\"\\t Well, the rest of the show was pretty good. It was a, a good show, wasn\\'t it?\\r\\n'\n",
      "b\" Well, the rest of the show was pretty good. It was a, a good show, wasn't it?\\t Here, your brother called.\\r\\n\"\n",
      "b' Here, your brother called.\\t\" Roz, in the trade we call that \"\"avoidance.\"\" Don\\'t change the subject, tell me what you think.\"\\r\\n'\n",
      "b'\" Roz, in the trade we call that \"\"avoidance.\"\" Don\\'t change the subject, tell me what you think.\"\\t Did I ever tell you what this little button does?\\r\\n'\n"
     ]
    }
   ],
   "source": [
    "printLines(\"data/formatted_lines_sitcom.txt\")"
   ]
  },
  {
   "cell_type": "code",
   "execution_count": 69,
   "metadata": {},
   "outputs": [],
   "source": [
    "# To do : Prepare chandler data"
   ]
  }
 ],
 "metadata": {
  "kernelspec": {
   "display_name": "Python 3",
   "language": "python",
   "name": "python3"
  },
  "language_info": {
   "codemirror_mode": {
    "name": "ipython",
    "version": 3
   },
   "file_extension": ".py",
   "mimetype": "text/x-python",
   "name": "python",
   "nbconvert_exporter": "python",
   "pygments_lexer": "ipython3",
   "version": "3.6.4"
  },
  "toc": {
   "nav_menu": {},
   "number_sections": true,
   "sideBar": true,
   "skip_h1_title": true,
   "title_cell": "Table of Contents",
   "title_sidebar": "Contents",
   "toc_cell": false,
   "toc_position": {},
   "toc_section_display": true,
   "toc_window_display": false
  }
 },
 "nbformat": 4,
 "nbformat_minor": 2
}
